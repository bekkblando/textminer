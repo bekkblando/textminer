{
 "cells": [
  {
   "cell_type": "code",
   "execution_count": 29,
   "metadata": {
    "collapsed": false
   },
   "outputs": [
    {
     "name": "stdout",
     "output_type": "stream",
     "text": [
      "3\n",
      "[]\n",
      "Length 0\n",
      "0\n",
      "[]\n",
      "0\n",
      "[]\n",
      "0\n",
      "[]\n",
      "0\n",
      "[]\n",
      "1\n",
      "[]\n",
      "Length 0\n",
      "Smile  False\n",
      "2\n",
      "[]\n",
      "Length 0\n"
     ]
    },
    {
     "ename": "AssertionError",
     "evalue": "",
     "output_type": "error",
     "traceback": [
      "\u001b[0;31m---------------------------------------------------------------------------\u001b[0m",
      "\u001b[0;31mAssertionError\u001b[0m                            Traceback (most recent call last)",
      "\u001b[0;32m<ipython-input-29-f1b94e86720e>\u001b[0m in \u001b[0;36m<module>\u001b[0;34m()\u001b[0m\n\u001b[1;32m     29\u001b[0m \u001b[0;32massert\u001b[0m \u001b[0mwords\u001b[0m\u001b[0;34m(\u001b[0m\u001b[0;34m\"18-wheeler tarbox\"\u001b[0m\u001b[0;34m)\u001b[0m\u001b[0;34m\u001b[0m\u001b[0m\n\u001b[1;32m     30\u001b[0m \u001b[0mprint\u001b[0m\u001b[0;34m(\u001b[0m\u001b[0;34m\"Smile \"\u001b[0m\u001b[0;34m,\u001b[0m \u001b[0mwords\u001b[0m\u001b[0;34m(\u001b[0m\u001b[0;34m\"hello\"\u001b[0m\u001b[0;34m,\u001b[0m \u001b[0mcount\u001b[0m\u001b[0;34m=\u001b[0m\u001b[0;36m1\u001b[0m\u001b[0;34m)\u001b[0m\u001b[0;34m)\u001b[0m\u001b[0;34m\u001b[0m\u001b[0m\n\u001b[0;32m---> 31\u001b[0;31m \u001b[0;32massert\u001b[0m \u001b[0mwords\u001b[0m\u001b[0;34m(\u001b[0m\u001b[0;34m\"hello world\"\u001b[0m\u001b[0;34m,\u001b[0m \u001b[0mcount\u001b[0m\u001b[0;34m=\u001b[0m\u001b[0;36m2\u001b[0m\u001b[0;34m)\u001b[0m\u001b[0;34m\u001b[0m\u001b[0m\n\u001b[0m\u001b[1;32m     32\u001b[0m \u001b[0;32massert\u001b[0m \u001b[0mwords\u001b[0m\u001b[0;34m(\u001b[0m\u001b[0;34m\"raggggg hammer dog\"\u001b[0m\u001b[0;34m,\u001b[0m \u001b[0mcount\u001b[0m\u001b[0;34m=\u001b[0m\u001b[0;36m3\u001b[0m\u001b[0;34m)\u001b[0m\u001b[0;34m\u001b[0m\u001b[0m\n\u001b[1;32m     33\u001b[0m \u001b[0mprint\u001b[0m\u001b[0;34m(\u001b[0m\u001b[0;34m\"18 Wheeler\"\u001b[0m\u001b[0;34m,\u001b[0m \u001b[0mwords\u001b[0m\u001b[0;34m(\u001b[0m\u001b[0;34m\"18-wheeler tarbox\"\u001b[0m\u001b[0;34m,\u001b[0m \u001b[0mcount\u001b[0m\u001b[0;34m=\u001b[0m\u001b[0;36m2\u001b[0m\u001b[0;34m)\u001b[0m\u001b[0;34m)\u001b[0m\u001b[0;34m\u001b[0m\u001b[0m\n",
      "\u001b[0;31mAssertionError\u001b[0m: "
     ]
    }
   ],
   "source": [
    "import re\n",
    "def words(test, count=0):\n",
    "    print(count)\n",
    "    if len(test) == 0:\n",
    "        return False\n",
    "    checkforletter = re.findall(r\"[a-zA-Z]\", test)\n",
    "    search = re.findall(r\"[^\\d\\w\\-\\s]\", test)\n",
    "    if len(search) == 0 and len(checkforletter) > 0:\n",
    "        pass\n",
    "    print(search)\n",
    "    if len(search) > 0:\n",
    "        return False\n",
    "    if len(checkforletter) == 0:\n",
    "        return False\n",
    "    else:\n",
    "        if count == 0:\n",
    "            return True\n",
    "        else:\n",
    "            print(\"Length\", len(re.findall(r\"\\w+\\-\", test)))\n",
    "            if len(re.findall(r\"\\w+\\-\", test)) == count:\n",
    "                return True\n",
    "            else:\n",
    "                return False\n",
    "\n",
    "words(\"raggggg hammer dog\", count=3)\n",
    "assert words(\"hello\")\n",
    "assert words(\"hello world\")\n",
    "assert words(\"raggggg hammer dog\")\n",
    "assert words(\"18-wheeler tarbox\")\n",
    "print(\"Smile \", words(\"hello\", count=1))\n",
    "assert words(\"hello world\", count=2)\n",
    "assert words(\"raggggg hammer dog\", count=3)\n",
    "print(\"18 Wheeler\", words(\"18-wheeler tarbox\", count=2))\n",
    "assert not words(\"\")\n",
    "assert not words(\"12\")\n",
    "assert not words(\"hey !!!\", count=2)\n",
    "assert not words(\"bar*us w!zard\", count=2)\n",
    "print(\"Hello\", words(\"hello\", count=2))\n",
    "assert not words(\"hello world\", count=3)\n",
    "assert not words(\"raggggg hammer dog\", count=1)\n",
    "assert not words(\"18-wheeler tarbox\", count=3)"
   ]
  },
  {
   "cell_type": "code",
   "execution_count": null,
   "metadata": {
    "collapsed": true
   },
   "outputs": [],
   "source": []
  }
 ],
 "metadata": {
  "kernelspec": {
   "display_name": "Python 3",
   "language": "python",
   "name": "python3"
  },
  "language_info": {
   "codemirror_mode": {
    "name": "ipython",
    "version": 3
   },
   "file_extension": ".py",
   "mimetype": "text/x-python",
   "name": "python",
   "nbconvert_exporter": "python",
   "pygments_lexer": "ipython3",
   "version": "3.4.3"
  }
 },
 "nbformat": 4,
 "nbformat_minor": 0
}
