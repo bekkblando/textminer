{
 "cells": [
  {
   "cell_type": "code",
   "execution_count": 60,
   "metadata": {
    "collapsed": false
   },
   "outputs": [
    {
     "name": "stdout",
     "output_type": "stream",
     "text": [
      "3\n",
      "[]\n",
      "Length 3\n",
      "raggggg hammer dog\n",
      "0\n",
      "[]\n",
      "0\n",
      "[]\n",
      "0\n",
      "[]\n",
      "0\n",
      "[]\n",
      "1\n",
      "[]\n",
      "Length 1\n",
      "hello\n",
      "Smile  True\n",
      "2\n",
      "[]\n",
      "Length 2\n",
      "hello world\n",
      "3\n",
      "[]\n",
      "Length 3\n",
      "raggggg hammer dog\n",
      "2\n",
      "[]\n",
      "Length 2\n",
      "18-wheeler tarbox\n",
      "0\n",
      "0\n",
      "[]\n",
      "2\n",
      "['!', '!', '!']\n",
      "2\n",
      "['*', '!']\n",
      "2\n",
      "[]\n",
      "Length 1\n",
      "hello\n",
      "3\n",
      "[]\n",
      "Length 2\n",
      "hello world\n",
      "1\n",
      "[]\n",
      "Length 3\n",
      "raggggg hammer dog\n",
      "3\n",
      "[]\n",
      "Length 2\n",
      "18-wheeler tarbox\n"
     ]
    }
   ],
   "source": [
    "import re\n",
    "def words(test, count=0):\n",
    "    print(count)\n",
    "    if len(test) == 0:\n",
    "        return False\n",
    "    checkforletter = re.findall(r\"[a-zA-Z]\", test)\n",
    "    search = re.findall(r\"[^\\d\\w\\-\\s]\", test)\n",
    "    if len(search) == 0 and len(checkforletter) > 0:\n",
    "        pass\n",
    "    print(search)\n",
    "    if len(search) > 0:\n",
    "        return False\n",
    "    if len(checkforletter) == 0:\n",
    "        return False\n",
    "    else:\n",
    "        if count == 0:\n",
    "            return True\n",
    "        else:\n",
    "            print(\"Length\", len(re.findall(r\"\\b[a-z]+\\b\", test)))\n",
    "            print(test)\n",
    "            if len(re.findall(r\"\\b[a-z]+\\b\", test)) == count:\n",
    "                return True\n",
    "            else:\n",
    "                return False\n",
    "\n",
    "words(\"raggggg hammer dog\", count=3)\n",
    "assert words(\"hello\")\n",
    "assert words(\"hello world\")\n",
    "assert words(\"raggggg hammer dog\")\n",
    "assert words(\"18-wheeler tarbox\")\n",
    "print(\"Smile \", words(\"hello\", count=1))\n",
    "assert words(\"hello world\", count=2)\n",
    "assert words(\"raggggg hammer dog\", count=3)\n",
    "assert words(\"18-wheeler tarbox\", count=2)\n",
    "assert not words(\"\")\n",
    "assert not words(\"12\")\n",
    "assert not words(\"hey !!!\", count=2)\n",
    "assert not words(\"bar*us w!zard\", count=2)\n",
    "assert not words(\"hello\", count=2)\n",
    "assert not words(\"hello world\", count=3)\n",
    "assert not words(\"raggggg hammer dog\", count=1)\n",
    "assert not words(\"18-wheeler tarbox\", count=3)"
   ]
  },
  {
   "cell_type": "code",
   "execution_count": 62,
   "metadata": {
    "collapsed": false
   },
   "outputs": [
    {
     "ename": "NameError",
     "evalue": "name 'phone_number' is not defined",
     "output_type": "error",
     "traceback": [
      "\u001b[0;31m---------------------------------------------------------------------------\u001b[0m",
      "\u001b[0;31mNameError\u001b[0m                                 Traceback (most recent call last)",
      "\u001b[0;32m<ipython-input-62-d2e40772f29f>\u001b[0m in \u001b[0;36m<module>\u001b[0;34m()\u001b[0m\n\u001b[1;32m     10\u001b[0m \u001b[0;34m\u001b[0m\u001b[0m\n\u001b[1;32m     11\u001b[0m \u001b[0;34m\u001b[0m\u001b[0m\n\u001b[0;32m---> 12\u001b[0;31m \u001b[0;32massert\u001b[0m \u001b[0mphone_number\u001b[0m\u001b[0;34m(\u001b[0m\u001b[0;34m\"919-555-1212\"\u001b[0m\u001b[0;34m)\u001b[0m\u001b[0;34m\u001b[0m\u001b[0m\n\u001b[0m\u001b[1;32m     13\u001b[0m \u001b[0;32massert\u001b[0m \u001b[0mphone_number\u001b[0m\u001b[0;34m(\u001b[0m\u001b[0;34m\"(919) 555-1212\"\u001b[0m\u001b[0;34m)\u001b[0m\u001b[0;34m\u001b[0m\u001b[0m\n\u001b[1;32m     14\u001b[0m \u001b[0;32massert\u001b[0m \u001b[0mphone_number\u001b[0m\u001b[0;34m(\u001b[0m\u001b[0;34m\"9195551212\"\u001b[0m\u001b[0;34m)\u001b[0m\u001b[0;34m\u001b[0m\u001b[0m\n",
      "\u001b[0;31mNameError\u001b[0m: name 'phone_number' is not defined"
     ]
    }
   ],
   "source": [
    "import re\n",
    "def phone_numbers(test):\n",
    "    print(test)\n",
    "    print(len(re.findall(\"r[\\d]\", test)))\n",
    "    if len(re.findall(r\"[\\d]\", test)) == 10:\n",
    "        return True\n",
    "    else:\n",
    "        return False\n",
    "    \n",
    "\n",
    "\n",
    "assert phone_number(\"919-555-1212\")\n",
    "assert phone_number(\"(919) 555-1212\")\n",
    "assert phone_number(\"9195551212\")\n",
    "assert phone_number(\"919.555.1212\")\n",
    "assert phone_number(\"919 555-1212\")\n",
    "assert not phone_number(\"\")\n",
    "assert not phone_number(\"555-121\")\n",
    "assert not phone_number(\"1212\")\n",
    "assert not phone_number(\"mobile\")"
   ]
  },
  {
   "cell_type": "code",
   "execution_count": 90,
   "metadata": {
    "collapsed": false
   },
   "outputs": [
    {
     "name": "stdout",
     "output_type": "stream",
     "text": [
      "False\n"
     ]
    }
   ],
   "source": [
    "\n",
    "def money(test):\n",
    "    if len(test) < 2:\n",
    "        return False\n",
    "    if re.fullmatch(r\"\\$.*\\.\\d{1}|\\$.*\\.\\d{3}|\\${2}\\d.*|\\$\\d*,\\d{1,2}|\\d+\", test):\n",
    "        return False\n",
    "    else:\n",
    "        return True\n",
    "                \n",
    "\n",
    "\n",
    "\n",
    "assert money(\"$4\")\n",
    "assert money(\"$19\")\n",
    "assert money(\"$19.00\")\n",
    "assert money(\"$3.58\")\n",
    "assert money(\"$1000\")\n",
    "assert money(\"$1000.00\")\n",
    "assert money(\"$1,000\")\n",
    "assert money(\"$1,000.00\")\n",
    "assert money(\"$5,555,555\")\n",
    "assert money(\"$5,555,555.55\")\n",
    "assert money(\"$45,555,555.55\")\n",
    "assert money(\"$456,555,555.55\")\n",
    "assert money(\"$1234567.89\")\n",
    "assert not money(\"\")\n",
    "print(money(\"$12,34\"))\n",
    "assert not money(\"$1234.9\")\n",
    "assert not money(\"$1234.999\")\n",
    "assert not money(\"$\")\n",
    "assert not money(\"31\")\n",
    "assert not money(\"$$31\")"
   ]
  },
  {
   "cell_type": "code",
   "execution_count": null,
   "metadata": {
    "collapsed": true
   },
   "outputs": [],
   "source": []
  }
 ],
 "metadata": {
  "kernelspec": {
   "display_name": "Python 3",
   "language": "python",
   "name": "python3"
  },
  "language_info": {
   "codemirror_mode": {
    "name": "ipython",
    "version": 3
   },
   "file_extension": ".py",
   "mimetype": "text/x-python",
   "name": "python",
   "nbconvert_exporter": "python",
   "pygments_lexer": "ipython3",
   "version": "3.4.3"
  }
 },
 "nbformat": 4,
 "nbformat_minor": 0
}
