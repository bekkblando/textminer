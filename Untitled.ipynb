{
 "cells": [
  {
   "cell_type": "code",
   "execution_count": 58,
   "metadata": {
    "collapsed": false
   },
   "outputs": [
    {
     "name": "stdout",
     "output_type": "stream",
     "text": [
      "3\n",
      "[]\n",
      "Length 3\n",
      "raggggg hammer dog\n",
      "0\n",
      "[]\n",
      "0\n",
      "[]\n",
      "0\n",
      "[]\n",
      "0\n",
      "[]\n",
      "1\n",
      "[]\n",
      "Length 1\n",
      "hello\n",
      "Smile  True\n",
      "2\n",
      "[]\n",
      "Length 2\n",
      "hello world\n",
      "3\n",
      "[]\n",
      "Length 3\n",
      "raggggg hammer dog\n",
      "2\n",
      "[]\n",
      "Length 2\n",
      "18-wheeler tarbox\n",
      "18 Wheeler False\n",
      "0\n",
      "0\n",
      "[]\n",
      "2\n",
      "['!', '!', '!']\n",
      "2\n",
      "['*', '!']\n",
      "2\n",
      "[]\n",
      "Length 1\n",
      "hello\n",
      "Hello False\n",
      "3\n",
      "[]\n",
      "Length 2\n",
      "hello world\n",
      "1\n",
      "[]\n",
      "Length 3\n",
      "raggggg hammer dog\n",
      "3\n",
      "[]\n",
      "Length 2\n",
      "18-wheeler tarbox\n"
     ]
    },
    {
     "ename": "AssertionError",
     "evalue": "",
     "output_type": "error",
     "traceback": [
      "\u001b[0;31m---------------------------------------------------------------------------\u001b[0m",
      "\u001b[0;31mAssertionError\u001b[0m                            Traceback (most recent call last)",
      "\u001b[0;32m<ipython-input-58-386ceaaee6b6>\u001b[0m in \u001b[0;36m<module>\u001b[0;34m()\u001b[0m\n\u001b[1;32m     40\u001b[0m \u001b[0;32massert\u001b[0m \u001b[0;32mnot\u001b[0m \u001b[0mwords\u001b[0m\u001b[0;34m(\u001b[0m\u001b[0;34m\"hello world\"\u001b[0m\u001b[0;34m,\u001b[0m \u001b[0mcount\u001b[0m\u001b[0;34m=\u001b[0m\u001b[0;36m3\u001b[0m\u001b[0;34m)\u001b[0m\u001b[0;34m\u001b[0m\u001b[0m\n\u001b[1;32m     41\u001b[0m \u001b[0;32massert\u001b[0m \u001b[0;32mnot\u001b[0m \u001b[0mwords\u001b[0m\u001b[0;34m(\u001b[0m\u001b[0;34m\"raggggg hammer dog\"\u001b[0m\u001b[0;34m,\u001b[0m \u001b[0mcount\u001b[0m\u001b[0;34m=\u001b[0m\u001b[0;36m1\u001b[0m\u001b[0;34m)\u001b[0m\u001b[0;34m\u001b[0m\u001b[0m\n\u001b[0;32m---> 42\u001b[0;31m \u001b[0;32massert\u001b[0m \u001b[0;32mnot\u001b[0m \u001b[0mwords\u001b[0m\u001b[0;34m(\u001b[0m\u001b[0;34m\"18-wheeler tarbox\"\u001b[0m\u001b[0;34m,\u001b[0m \u001b[0mcount\u001b[0m\u001b[0;34m=\u001b[0m\u001b[0;36m3\u001b[0m\u001b[0;34m)\u001b[0m\u001b[0;34m\u001b[0m\u001b[0m\n\u001b[0m",
      "\u001b[0;31mAssertionError\u001b[0m: "
     ]
    }
   ],
   "source": [
    "import re\n",
    "def words(test, count=0):\n",
    "    print(count)\n",
    "    if len(test) == 0:\n",
    "        return False\n",
    "    checkforletter = re.findall(r\"[a-zA-Z]\", test)\n",
    "    search = re.findall(r\"[^\\d\\w\\-\\s]\", test)\n",
    "    if len(search) == 0 and len(checkforletter) > 0:\n",
    "        pass\n",
    "    print(search)\n",
    "    if len(search) > 0:\n",
    "        return False\n",
    "    if len(checkforletter) == 0:\n",
    "        return False\n",
    "    else:\n",
    "        if count == 0:\n",
    "            return True\n",
    "        else:\n",
    "            print(\"Length\", len(re.findall(r\"\\b[a-z]+\\b\", test)))\n",
    "            print(test)\n",
    "            if len(re.findall(r\"\\w+\", test)) == count:\n",
    "                return True\n",
    "            else:\n",
    "                return False\n",
    "\n",
    "words(\"raggggg hammer dog\", count=3)\n",
    "assert words(\"hello\")\n",
    "assert words(\"hello world\")\n",
    "assert words(\"raggggg hammer dog\")\n",
    "assert words(\"18-wheeler tarbox\")\n",
    "print(\"Smile \", words(\"hello\", count=1))\n",
    "assert words(\"hello world\", count=2)\n",
    "assert words(\"raggggg hammer dog\", count=3)\n",
    "print(\"18 Wheeler\", words(\"18-wheeler tarbox\", count=2))\n",
    "assert not words(\"\")\n",
    "assert not words(\"12\")\n",
    "assert not words(\"hey !!!\", count=2)\n",
    "assert not words(\"bar*us w!zard\", count=2)\n",
    "print(\"Hello\", words(\"hello\", count=2))\n",
    "assert not words(\"hello world\", count=3)\n",
    "assert not words(\"raggggg hammer dog\", count=1)\n",
    "assert not words(\"18-wheeler tarbox\", count=3)"
   ]
  },
  {
   "cell_type": "code",
   "execution_count": null,
   "metadata": {
    "collapsed": true
   },
   "outputs": [],
   "source": []
  }
 ],
 "metadata": {
  "kernelspec": {
   "display_name": "Python 3",
   "language": "python",
   "name": "python3"
  },
  "language_info": {
   "codemirror_mode": {
    "name": "ipython",
    "version": 3
   },
   "file_extension": ".py",
   "mimetype": "text/x-python",
   "name": "python",
   "nbconvert_exporter": "python",
   "pygments_lexer": "ipython3",
   "version": "3.4.3"
  }
 },
 "nbformat": 4,
 "nbformat_minor": 0
}
